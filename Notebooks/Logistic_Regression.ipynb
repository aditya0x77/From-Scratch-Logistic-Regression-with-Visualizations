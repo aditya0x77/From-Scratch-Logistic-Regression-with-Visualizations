{
 "cells": [
  {
   "cell_type": "code",
   "execution_count": null,
   "id": "38965a6a",
   "metadata": {},
   "outputs": [],
   "source": [
    "import numpy as np\n",
    "import matplotlib.pyplot as plt\n",
    "import pandas as pd\n"
   ]
  },
  {
   "cell_type": "code",
   "execution_count": null,
   "id": "bb16cd41",
   "metadata": {},
   "outputs": [],
   "source": [
    "Data = pd.read_csv(r\"C:\\Users\\adity\\OneDrive\\Desktop\\Linear_reg_Scratch\\Data\\possum.csv\")\n"
   ]
  },
  {
   "cell_type": "code",
   "execution_count": null,
   "id": "657fce8b",
   "metadata": {},
   "outputs": [],
   "source": [
    "Data = Data.drop([\"case\",\"site\",\"Pop\"], axis=1)\n",
    "Data[\"sex\"] = Data[\"sex\"].map({\"m\": \"1\", \"f\": \"0\"}).astype(int)\n",
    "Data = Data / Data.max(axis=0)\n",
    "Data = Data.dropna() \n",
    "\n",
    "Data\n",
    "\n"
   ]
  },
  {
   "cell_type": "code",
   "execution_count": null,
   "id": "87edaf8e",
   "metadata": {},
   "outputs": [],
   "source": [
    "def sigmoid(z):\n",
    "    z = np.clip(z, -500, 500)\n",
    "    result = 1/(1+np.exp(-z))\n",
    "    return result"
   ]
  },
  {
   "cell_type": "code",
   "execution_count": null,
   "id": "4d768555",
   "metadata": {},
   "outputs": [],
   "source": [
    "def calc_cost(w, b, data):\n",
    "    X = data.drop(\"sex\", axis=1).values\n",
    "    Y = data[\"sex\"].values\n",
    "    m = len(data)\n",
    "    y_preds = sigmoid(np.dot(X, w) + b )\n",
    "    eps = 1e-9\n",
    "    cost = (-1.0/m) * np.sum(Y*np.log(y_preds+eps) + (1-Y)*np.log(1-y_preds+eps))\n",
    "  \n",
    "    return cost\n",
    "\n"
   ]
  },
  {
   "cell_type": "code",
   "execution_count": null,
   "id": "25374059",
   "metadata": {},
   "outputs": [],
   "source": [
    "def gradient_descent(w_current, b_current, data, LR):\n",
    "    X = data.drop(\"sex\", axis=1).values\n",
    "    Y = data[\"sex\"].values\n",
    "    m = len(data)\n",
    "    y_preds = sigmoid(np.dot(X, w_current) + b_current )\n",
    "    w_grad = (1.0/m) * np.dot(X.T, (y_preds - Y))\n",
    "    b_grad = (1.0/m) * np.sum(y_preds - Y)\n",
    "\n",
    "    w = w_current - LR*(w_grad) \n",
    "    b = b_current - LR*(b_grad) \n",
    "\n",
    "    return w, b"
   ]
  },
  {
   "cell_type": "code",
   "execution_count": null,
   "id": "664e91d1",
   "metadata": {},
   "outputs": [],
   "source": [
    "w = np.zeros(10)\n",
    "j_val_overtime = np.zeros(50000)\n",
    "b = 0\n",
    "LR = 0.1\n",
    "epochs = 50000\n",
    "for i in range(epochs):\n",
    "    w,b = gradient_descent(w,b,Data,LR)\n",
    "    j_val_overtime[i] = calc_cost(w, b, Data)\n",
    "\n",
    "\n",
    "w,b"
   ]
  },
  {
   "cell_type": "code",
   "execution_count": null,
   "id": "6fafaa8d",
   "metadata": {},
   "outputs": [],
   "source": [
    "fig, ax = plt.subplots()\n",
    "ax.plot(range(len(j_val_overtime)), j_val_overtime, color=\"purple\")\n",
    "ax.set_xlabel(\"Epochs\")\n",
    "ax.set_ylabel(\"Cost\")\n",
    "ax.set_title(\"Loss vs Epochs\")\n",
    "plt.show()\n"
   ]
  },
  {
   "cell_type": "code",
   "execution_count": null,
   "id": "d92f66db",
   "metadata": {},
   "outputs": [],
   "source": [
    "test_data = pd.read_csv(\"new data\")\n",
    "test_data = test_data.drop(\"Unnamed: 0\", axis = 1)\n",
    "test_data"
   ]
  },
  {
   "cell_type": "code",
   "execution_count": null,
   "id": "63d1edc9",
   "metadata": {},
   "outputs": [],
   "source": [
    "test = test_data.values"
   ]
  },
  {
   "cell_type": "code",
   "execution_count": null,
   "id": "124efab0",
   "metadata": {},
   "outputs": [],
   "source": [
    "w"
   ]
  },
  {
   "cell_type": "code",
   "execution_count": null,
   "id": "a435c017",
   "metadata": {},
   "outputs": [],
   "source": [
    "probs = sigmoid(np.dot(test, w) + b)\n",
    "\n",
    "\n",
    "print(probs[:100])  \n",
    "\n",
    "\n"
   ]
  },
  {
   "cell_type": "code",
   "execution_count": null,
   "id": "b365a088",
   "metadata": {},
   "outputs": [],
   "source": [
    "for i in range(len(j_val_overtime)):\n",
    "    if i % 10 == 0:\n",
    "        print(j_val_overtime[i])"
   ]
  },
  {
   "cell_type": "code",
   "execution_count": null,
   "id": "dc28a592",
   "metadata": {},
   "outputs": [],
   "source": [
    "\n",
    "def predict(w, b, data):\n",
    "    X = data.drop(\"sex\", axis=1).values\n",
    "    y_pred_probs = sigmoid(np.dot(X, w) + b)\n",
    "    y_pred = (y_pred_probs >= 0.5).astype(int) \n",
    "    return y_pred\n",
    "\n",
    "\n",
    "y_true = Data[\"sex\"].values\n",
    "y_pred = predict(w, b, Data)\n",
    "accuracy = np.mean(y_pred == y_true) * 100\n",
    "print(f\"Accuracy: {accuracy}%\")\n"
   ]
  }
 ],
 "metadata": {
  "kernelspec": {
   "display_name": "Python 3",
   "language": "python",
   "name": "python3"
  },
  "language_info": {
   "codemirror_mode": {
    "name": "ipython",
    "version": 3
   },
   "file_extension": ".py",
   "mimetype": "text/x-python",
   "name": "python",
   "nbconvert_exporter": "python",
   "pygments_lexer": "ipython3",
   "version": "3.13.5"
  }
 },
 "nbformat": 4,
 "nbformat_minor": 5
}
